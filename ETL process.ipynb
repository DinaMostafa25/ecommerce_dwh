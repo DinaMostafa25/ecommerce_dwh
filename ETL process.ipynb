{
 "cells": [
  {
   "cell_type": "code",
   "execution_count": 1,
   "id": "628a7a0b-ddec-4a0a-b35d-ab7f52ba04bf",
   "metadata": {},
   "outputs": [],
   "source": [
    "import pandas as pd\n"
   ]
  },
  {
   "cell_type": "markdown",
   "id": "54e0c1c8-393c-41bf-9950-588eaf5ac01b",
   "metadata": {},
   "source": [
    "# Extract data\n"
   ]
  },
  {
   "cell_type": "code",
   "execution_count": null,
   "id": "348da4ce-930a-4290-94d1-15214d412196",
   "metadata": {},
   "outputs": [],
   "source": [
    "# Load user dataset\n",
    "user_dataset = pd.read_excel(\"user_dataset.xlsx\")\n",
    "\n",
    "# Load seller dataset\n",
    "seller_dataset = pd.read_excel(\"seller_dataset.xlsx\")\n",
    "\n",
    "# Load product dataset\n",
    "product_dataset = pd.read_excel(\"product_dataset.xlsx\")\n",
    "\n",
    "# Load payment dataset\n",
    "payment_dataset = pd.read_excel(\"payment_dataset.xlsx\")\n",
    "\n",
    "# Load order dataset\n",
    "order_dataset = pd.read_excel(\"order_dataset.xlsx\")\n",
    "\n",
    "# Load order item dataset\n",
    "order_item_dataset = pd.read_excel(\"order_item_dataset.xlsx\")\n",
    "\n",
    "# Load feedback dataset\n",
    "feedback_dataset = pd.read_excel(\"feedback_dataset.xlsx\")\n"
   ]
  }
 ],
 "metadata": {
  "kernelspec": {
   "display_name": "Python 3 (ipykernel)",
   "language": "python",
   "name": "python3"
  },
  "language_info": {
   "codemirror_mode": {
    "name": "ipython",
    "version": 3
   },
   "file_extension": ".py",
   "mimetype": "text/x-python",
   "name": "python",
   "nbconvert_exporter": "python",
   "pygments_lexer": "ipython3",
   "version": "3.12.7"
  }
 },
 "nbformat": 4,
 "nbformat_minor": 5
}
