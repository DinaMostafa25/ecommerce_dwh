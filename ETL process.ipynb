{
 "cells": [
  {
   "cell_type": "code",
   "execution_count": 1,
   "id": "5cd755c3-112b-4445-b113-2ae54f1121b2",
   "metadata": {},
   "outputs": [],
   "source": [
    "import pandas as pd"
   ]
  },
  {
   "cell_type": "markdown",
   "id": "4550f5d2-e85f-4080-882a-dd35d2e98681",
   "metadata": {},
   "source": [
    "# Exteract\n"
   ]
  },
  {
   "cell_type": "code",
   "execution_count": 2,
   "id": "c051cd04-0ccf-499c-82ea-123e23ce0d40",
   "metadata": {},
   "outputs": [],
   "source": [
    "# Load customer dim \n",
    "customer_dim = pd.read_excel(\"customer_dim.xlsx\")\n",
    "\n",
    "# Load seller dim \n",
    "seller_dim  = pd.read_csv(\"seller_dim.csv\")\n",
    "\n",
    "# Load product dim \n",
    "product_dim  = pd.read_csv(\"product_dim.csv\")\n",
    "\n",
    "# Load payment dim \n",
    "payment_dim  = pd.read_csv(\"payment_dim.csv\")\n",
    "\n",
    "# Load order dim \n",
    "order_dim  = pd.read_csv(\"order_dim.csv\")\n",
    "\n",
    "# Load order fact\n",
    "order_fact = pd.read_csv(\"order_fact.csv\")\n",
    "\n",
    "# Load feedback dim \n",
    "feedback_dim  = pd.read_csv(\"feedback_dim.csv\")\n"
   ]
  },
  {
   "cell_type": "code",
   "execution_count": 3,
   "id": "fa9fa39c-2d2b-47cc-8da0-80e740870d59",
   "metadata": {},
   "outputs": [
    {
     "name": "stdout",
     "output_type": "stream",
     "text": [
      "                      customer_name  customer_zip_code  \\\n",
      "0  861eff4711a542e4b93843c6dd7febb0              14409   \n",
      "1  290c77bc529b7ac935b93aa66c333dc3               9790   \n",
      "2  060e732b5b29e8181a18229c7b0b2b5e               1151   \n",
      "3  259dac757896d24d7702b9acbbff3f3c               8775   \n",
      "4  345ecd01c38d18a9036ed96c73b8d066              13056   \n",
      "\n",
      "             customer_city customer_state  \n",
      "0     KABUPATEN PEKALONGAN    JAWA TENGAH  \n",
      "1              KOTA BEKASI     JAWA BARAT  \n",
      "2           KOTA TANGERANG         BANTEN  \n",
      "3  KABUPATEN BANDUNG BARAT     JAWA BARAT  \n",
      "4       KOTA JAKARTA TIMUR    DKI JAKARTA  \n",
      "*---------------------------------------------------*\n",
      "                          seller_id  seller_zip_code          seller_city  \\\n",
      "0  3442f8959a84dea7ee197c632cb2df15            13023   KOTA JAKARTA TIMUR   \n",
      "1  d1b65fc7debc3361ea86b5f14c68d2e2            13844  KOTA PADANG PANJANG   \n",
      "2  ce3ad9de960102d0677a81f5d0bb7b2d            20031   KOTA JAKARTA BARAT   \n",
      "3  c0f3eea2e14555b6faeea3dd58c1b1c3             4195       KOTA TANGERANG   \n",
      "4  51a04a8a6bdcb23deccc82b0b80742cf            12914   KABUPATEN LAMONGAN   \n",
      "\n",
      "     seller_state  \n",
      "0     DKI JAKARTA  \n",
      "1  SUMATERA BARAT  \n",
      "2     DKI JAKARTA  \n",
      "3          BANTEN  \n",
      "4      JAWA TIMUR  \n",
      "*---------------------------------------------------*\n",
      "                         product_id product_category  product_name_lenght  \\\n",
      "0  1e9e8ef04dbcff4541ed26657ea517e5        perfumery                 40.0   \n",
      "1  3aa071139cb16b67ca9e5dea641aaa2f              art                 44.0   \n",
      "2  96bd76ec8810374ed1b65e291975717f   sports_leisure                 46.0   \n",
      "3  cef67bcfe19066a932b7673e239eb23d             baby                 27.0   \n",
      "4  9dc1a7de274444849c219cff195d0b71       housewares                 37.0   \n",
      "\n",
      "   product_description_lenght  product_photos_qty  product_weight_g  \\\n",
      "0                       287.0                 1.0             225.0   \n",
      "1                       276.0                 1.0            1000.0   \n",
      "2                       250.0                 1.0             154.0   \n",
      "3                       261.0                 1.0             371.0   \n",
      "4                       402.0                 4.0             625.0   \n",
      "\n",
      "   product_length_cm  product_height_cm  product_width_cm  \n",
      "0               16.0               10.0              14.0  \n",
      "1               30.0               18.0              20.0  \n",
      "2               18.0                9.0              15.0  \n",
      "3               26.0                4.0              26.0  \n",
      "4               20.0               17.0              13.0  \n",
      "*---------------------------------------------------*\n",
      "                           order_id  payment_sequential payment_type  \\\n",
      "0  b81ef226f3fe1789b1e8b2acac839d17                   1  credit_card   \n",
      "1  a9810da82917af2d9aefd1278f1dcfa0                   1  credit_card   \n",
      "2  25e8ea4e93396b6fa0d3dd708e76c1bd                   1  credit_card   \n",
      "3  ba78997921bbcdc1373bb41e913ab953                   1  credit_card   \n",
      "4  42fdf880ba16b47b59251dd489d4441a                   1  credit_card   \n",
      "\n",
      "   payment_installments  payment_value  \n",
      "0                     8        99330.0  \n",
      "1                     1        24390.0  \n",
      "2                     1        65710.0  \n",
      "3                     8       107780.0  \n",
      "4                     2       128450.0  \n",
      "*---------------------------------------------------*\n",
      "                           order_id                     customer_name  \\\n",
      "0  e481f51cbdc54678b7cc49136f2d6af7  7c396fd4830fd04220f754e42b4e5bff   \n",
      "1  53cdb2fc8bc7dce0b6741e2150273451  af07308b275d755c9edb36a90c618231   \n",
      "2  47770eb9100c2d0c44946d9cf07ec65d  3a653a41f6f9fc3d2a113cf8398680e8   \n",
      "3  949d5b44dbf5de918fe9c16f97b45f8a  7c142cf63193a1473d2e66489a9ae977   \n",
      "4  ad21c59c0840e6cb83a9ceb5573f8159  72632f0f9dd73dfee390c9b22eb56dd6   \n",
      "\n",
      "  order_status        order_date order_approved_date       pickup_date  \\\n",
      "0    delivered   10/2/2017 10:56     10/2/2017 11:07   10/4/2017 19:55   \n",
      "1    delivered   7/24/2018 20:41      7/26/2018 3:24   7/26/2018 14:31   \n",
      "2    delivered     8/8/2018 8:38       8/8/2018 8:55    8/8/2018 13:50   \n",
      "3    delivered  11/18/2017 19:28    11/18/2017 19:45  11/22/2017 13:39   \n",
      "4    delivered   2/13/2018 21:18     2/13/2018 22:20   2/14/2018 19:46   \n",
      "\n",
      "     delivered_date estimated_time_delivery  \n",
      "0  10/10/2017 21:25         10/18/2017 0:00  \n",
      "1    8/7/2018 15:27          8/13/2018 0:00  \n",
      "2   8/17/2018 18:06           9/4/2018 0:00  \n",
      "3    12/2/2017 0:28         12/15/2017 0:00  \n",
      "4   2/16/2018 18:17          2/26/2018 0:00  \n",
      "*---------------------------------------------------*\n",
      "                           order_id  order_item_id  \\\n",
      "0  00010242fe8c5a6d1ba2dd792cb16214              1   \n",
      "1  00018f77f2f0320c557190d7a144bdd3              1   \n",
      "2  000229ec398224ef6ca0657da4fc703e              1   \n",
      "3  00024acbcdf0a6daa1e931b038114c75              1   \n",
      "4  00042b26cf59d7ce69dfabb4e55b4fd9              1   \n",
      "\n",
      "                         product_id                         seller_id  \\\n",
      "0  4244733e06e7ecb4970a6e2683c13e61  48436dade18ac8b2bce089ec2a041202   \n",
      "1  e5f2d52b802189ee658865ca93d83a8f  dd7ddc04e1b6c2c614352b383efe2d36   \n",
      "2  c777355d18b72b67abbeef9df44fd0fd  5b51032eddd242adc84c38acab88f23d   \n",
      "3  7634da152a4610f1595efa32f14722fc  9d7a1d34a5052409006425275ba1c2b4   \n",
      "4  ac6c3623068f30de03045865e4e10089  df560393f3a51e74553ab94004ba5c87   \n",
      "\n",
      "     pickup_limit_date     price  shipping_cost  \n",
      "0  2017-09-19 09:45:35   58900.0        13290.0  \n",
      "1  2017-05-03 11:05:13  239900.0        19930.0  \n",
      "2  2018-01-18 14:48:30  199000.0        17870.0  \n",
      "3  2018-08-15 10:10:18   12990.0        12790.0  \n",
      "4  2017-02-13 13:57:51  199900.0        18140.0  \n",
      "*---------------------------------------------------*\n",
      "                        feedback_id                          order_id  \\\n",
      "0  7bc2406110b926393aa56f80a40eba40  73fc7af87114b39712e6da79b0a377eb   \n",
      "1  80e641a11e56f04c1ad469d5645fdfde  a548910a1c6147796b98fdf73dbeba33   \n",
      "2  228ce5500dc1d8e020d8d1322874b6f0  f9e4b658b201a9f2ecdecbb34bed034b   \n",
      "3  e64fb393e7b32834bb789ff8bb30750e  658677c97b385a9be170737859d3511b   \n",
      "4  f7c4243c7fe1938f181bec41a392bdeb  8e6bfb81e283fa7e4f11123a3fb894f1   \n",
      "\n",
      "   feedback_score feedback_form_sent_date feedback_answer_date  \n",
      "0               4               1/18/2018            1/18/2018  \n",
      "1               5               3/10/2018            3/11/2018  \n",
      "2               5               2/17/2018            2/18/2018  \n",
      "3               5               4/21/2017            4/21/2017  \n",
      "4               5                3/1/2018             3/2/2018  \n"
     ]
    }
   ],
   "source": [
    "# preview data\n",
    "print(customer_dim.head())\n",
    "print('*---------------------------------------------------*')\n",
    "print(seller_dim.head())\n",
    "print('*---------------------------------------------------*')\n",
    "print(product_dim.head())\n",
    "print('*---------------------------------------------------*')\n",
    "print(payment_dim.head())\n",
    "print('*---------------------------------------------------*')\n",
    "print(order_dim.head())\n",
    "print('*---------------------------------------------------*')\n",
    "print(order_fact.head())\n",
    "print('*---------------------------------------------------*')\n",
    "print(feedback_dim.head())\n"
   ]
  },
  {
   "cell_type": "code",
   "execution_count": 4,
   "id": "9c5cd35e-4ff1-4060-9b04-1daabd6a67f7",
   "metadata": {},
   "outputs": [
    {
     "name": "stdout",
     "output_type": "stream",
     "text": [
      "customer_name        0\n",
      "customer_zip_code    0\n",
      "customer_city        0\n",
      "customer_state       0\n",
      "dtype: int64\n",
      "*---------------------------------------------------*\n",
      "seller_id          0\n",
      "seller_zip_code    0\n",
      "seller_city        0\n",
      "seller_state       0\n",
      "dtype: int64\n",
      "*---------------------------------------------------*\n",
      "product_id                      0\n",
      "product_category              623\n",
      "product_name_lenght           610\n",
      "product_description_lenght    610\n",
      "product_photos_qty            610\n",
      "product_weight_g                2\n",
      "product_length_cm               2\n",
      "product_height_cm               2\n",
      "product_width_cm                2\n",
      "dtype: int64\n",
      "*---------------------------------------------------*\n",
      "order_id                0\n",
      "payment_sequential      0\n",
      "payment_type            0\n",
      "payment_installments    0\n",
      "payment_value           0\n",
      "dtype: int64\n",
      "*---------------------------------------------------*\n",
      "order_id                      0\n",
      "customer_name                 0\n",
      "order_status                  0\n",
      "order_date                    0\n",
      "order_approved_date         160\n",
      "pickup_date                1783\n",
      "delivered_date             2965\n",
      "estimated_time_delivery       0\n",
      "dtype: int64\n",
      "*---------------------------------------------------*\n",
      "order_id             0\n",
      "order_item_id        0\n",
      "product_id           0\n",
      "seller_id            0\n",
      "pickup_limit_date    0\n",
      "price                0\n",
      "shipping_cost        0\n",
      "dtype: int64\n",
      "*---------------------------------------------------*\n",
      "feedback_id                0\n",
      "order_id                   0\n",
      "feedback_score             0\n",
      "feedback_form_sent_date    0\n",
      "feedback_answer_date       0\n",
      "dtype: int64\n"
     ]
    }
   ],
   "source": [
    "#check for null\n",
    "\n",
    "print(customer_dim.isnull().sum())\n",
    "print('*---------------------------------------------------*')\n",
    "print(seller_dim.isnull().sum())\n",
    "print('*---------------------------------------------------*')\n",
    "print(product_dim.isnull().sum())\n",
    "print('*---------------------------------------------------*')\n",
    "print(payment_dim.isnull().sum())\n",
    "print('*---------------------------------------------------*')\n",
    "print(order_dim.isnull().sum())\n",
    "print('*---------------------------------------------------*')\n",
    "print(order_fact.isnull().sum())\n",
    "print('*---------------------------------------------------*')\n",
    "print(feedback_dim.isnull().sum())\n"
   ]
  },
  {
   "cell_type": "markdown",
   "id": "d994b54a-ebc9-44ff-bb2a-ea0de8574405",
   "metadata": {},
   "source": [
    "the missing values have a meaning so leave it as it"
   ]
  },
  {
   "cell_type": "markdown",
   "id": "c8d16ee3-3534-4a48-8edf-9ceed6a422e4",
   "metadata": {},
   "source": [
    "# Transformation"
   ]
  },
  {
   "cell_type": "code",
   "execution_count": 5,
   "id": "eeabef66-fa71-4088-b44d-a6d2d47e7713",
   "metadata": {},
   "outputs": [],
   "source": [
    "\n",
    "\n",
    "# Drop duplicates, keeping only the last occurrence for each customer name \n",
    "customer_dim = customer_dim.drop_duplicates(subset='customer_name', keep='last')\n"
   ]
  },
  {
   "cell_type": "code",
   "execution_count": 6,
   "id": "a1d96be1-4067-4dba-8b55-9eaba98b04e8",
   "metadata": {},
   "outputs": [],
   "source": [
    "# Dropping duplicates in each dataset\n",
    "customer_dim.drop_duplicates(inplace=True)\n",
    "seller_dim.drop_duplicates(inplace=True)\n",
    "product_dim.drop_duplicates(inplace=True)\n",
    "payment_dim.drop_duplicates(inplace=True)\n",
    "order_dim.drop_duplicates(inplace=True)\n",
    "order_fact.drop_duplicates(inplace=True)\n",
    "feedback_dim.drop_duplicates(inplace=True)"
   ]
  },
  {
   "cell_type": "code",
   "execution_count": 7,
   "id": "5018514a-6363-47ae-a68b-279b2f04e1b2",
   "metadata": {},
   "outputs": [],
   "source": [
    "# Converting date columns to datetime (example: if any date columns exist)\n",
    "\n",
    "# order dim\n",
    "order_dim['order_date'] = pd.to_datetime(order_dim['order_date'], errors='coerce')\n",
    "order_dim['order_approved_date'] = pd.to_datetime(order_dim['order_approved_date'], errors='coerce')\n",
    "order_dim['pickup_date'] = pd.to_datetime(order_dim['pickup_date'], errors='coerce')\n",
    "order_dim['delivered_date'] = pd.to_datetime(order_dim['delivered_date'], errors='coerce')\n",
    "order_dim['estimated_time_delivery'] = pd.to_datetime(order_dim['estimated_time_delivery'], errors='coerce')\n",
    "\n",
    "\n",
    "# feedback dim\n",
    "feedback_dim['feedback_form_sent_date'] = pd.to_datetime(feedback_dim['feedback_form_sent_date'], errors='coerce')\n",
    "feedback_dim['feedback_answer_date'] = pd.to_datetime(feedback_dim['feedback_answer_date'], errors='coerce')\n",
    "\n",
    "\n",
    "\n",
    "\n"
   ]
  },
  {
   "cell_type": "code",
   "execution_count": 8,
   "id": "fb615133-e820-48d8-bc69-d65497b19e34",
   "metadata": {},
   "outputs": [],
   "source": [
    "# Feature engineering: Calculate delivery time\n",
    "order_fact['delivery_time'] = (order_dim['delivered_date'] - order_dim['order_date']).dt.days"
   ]
  },
  {
   "cell_type": "code",
   "execution_count": 9,
   "id": "620009fa-0a36-4164-87fb-6a48216d08b3",
   "metadata": {},
   "outputs": [],
   "source": [
    "# Add a surrogate key to customer_dim\n",
    "#customer_dim['customer_id_sk'] = customer_dim['customer_name'] + \"_\" + customer_dim['customer_zip_code'].astype(str)\n",
    "customer_dim['customer_id_sk'] = range(1, len(customer_dim) + 1)\n"
   ]
  },
  {
   "cell_type": "code",
   "execution_count": 10,
   "id": "8b5e7a4a-38dd-4b38-9ec0-e1556b5e9790",
   "metadata": {},
   "outputs": [],
   "source": [
    "# Create a mapping dictionary for surrogate keys\n",
    "key_mapping = customer_dim.set_index('customer_name')['customer_id_sk'].to_dict()\n",
    "\n",
    "# Map surrogate key to order_dim using user_name\n",
    "order_dim['customer_id_sk'] = order_dim['customer_name'].map(key_mapping)\n"
   ]
  },
  {
   "cell_type": "code",
   "execution_count": 11,
   "id": "acbd95ef-3985-4fe5-a6cf-b6583ef6bf40",
   "metadata": {},
   "outputs": [
    {
     "data": {
      "text/plain": [
       "Index(['order_id', 'customer_name', 'order_status', 'order_date',\n",
       "       'order_approved_date', 'pickup_date', 'delivered_date',\n",
       "       'estimated_time_delivery', 'customer_id_sk'],\n",
       "      dtype='object')"
      ]
     },
     "execution_count": 11,
     "metadata": {},
     "output_type": "execute_result"
    }
   ],
   "source": [
    "order_dim.columns"
   ]
  },
  {
   "cell_type": "code",
   "execution_count": 12,
   "id": "0717834c-5670-4108-be3c-fdd2b396bcb6",
   "metadata": {},
   "outputs": [
    {
     "data": {
      "text/plain": [
       "Index(['customer_name', 'customer_zip_code', 'customer_city', 'customer_state',\n",
       "       'customer_id_sk'],\n",
       "      dtype='object')"
      ]
     },
     "execution_count": 12,
     "metadata": {},
     "output_type": "execute_result"
    }
   ],
   "source": [
    "customer_dim.columns"
   ]
  },
  {
   "cell_type": "code",
   "execution_count": 13,
   "id": "836c8f40-6800-47fe-8d09-df21ab463618",
   "metadata": {},
   "outputs": [],
   "source": [
    "# merging data \n",
    "#Merge order_dim with order_fact to include customer_surrogate_key\n",
    "order_fact = pd.merge(order_fact, order_dim[['order_id', 'customer_id_sk']], on='order_id', how='left')\n",
    "\n",
    "# Merge order_fact with other dimensions\n",
    "merged_df = pd.merge(order_fact, seller_dim, on='seller_id', how='left')\n",
    "merged_df = pd.merge(merged_df, product_dim, on='product_id', how='left')\n",
    "merged_df = pd.merge(merged_df, payment_dim, on='order_id', how='left')\n",
    "merged_df = pd.merge(merged_df, feedback_dim, on='order_id', how='left')\n",
    "\n",
    "\n",
    "\n",
    "# Final merge with customer_dim to add customer-specific details\n",
    "merged_df = pd.merge(merged_df, customer_dim, on='customer_id_sk', how='left')\n",
    "\n",
    "\n",
    "\n"
   ]
  },
  {
   "cell_type": "code",
   "execution_count": 14,
   "id": "d0e7549f-a3aa-45b5-82da-cf30cc372917",
   "metadata": {},
   "outputs": [
    {
     "data": {
      "text/plain": [
       "Index(['order_id', 'order_item_id', 'product_id', 'seller_id',\n",
       "       'pickup_limit_date', 'price', 'shipping_cost', 'delivery_time',\n",
       "       'customer_id_sk', 'seller_zip_code', 'seller_city', 'seller_state',\n",
       "       'product_category', 'product_name_lenght', 'product_description_lenght',\n",
       "       'product_photos_qty', 'product_weight_g', 'product_length_cm',\n",
       "       'product_height_cm', 'product_width_cm', 'payment_sequential',\n",
       "       'payment_type', 'payment_installments', 'payment_value', 'feedback_id',\n",
       "       'feedback_score', 'feedback_form_sent_date', 'feedback_answer_date',\n",
       "       'customer_name', 'customer_zip_code', 'customer_city',\n",
       "       'customer_state'],\n",
       "      dtype='object')"
      ]
     },
     "execution_count": 14,
     "metadata": {},
     "output_type": "execute_result"
    }
   ],
   "source": [
    "merged_df.columns"
   ]
  },
  {
   "cell_type": "code",
   "execution_count": 15,
   "id": "45d4d491-dfba-45d4-bfb6-51177338b31d",
   "metadata": {},
   "outputs": [],
   "source": [
    "#customer_dim.columns\n",
    "#payment_dim.columns\n",
    "#feedback_dim.columns\n",
    "#order_dim.columns\n",
    "#product_dim.columns\n",
    "#seller_dim.columns\n",
    "#customer_dim.columns"
   ]
  },
  {
   "cell_type": "code",
   "execution_count": 16,
   "id": "9f496304-7fd0-498e-a1eb-748bbb62fe2e",
   "metadata": {},
   "outputs": [
    {
     "data": {
      "text/plain": [
       "Index(['order_id', 'order_item_id', 'product_id', 'seller_id',\n",
       "       'pickup_limit_date', 'price', 'shipping_cost', 'delivery_time',\n",
       "       'customer_id_sk'],\n",
       "      dtype='object')"
      ]
     },
     "execution_count": 16,
     "metadata": {},
     "output_type": "execute_result"
    }
   ],
   "source": [
    "cols = order_fact.columns\n",
    "cols"
   ]
  },
  {
   "cell_type": "code",
   "execution_count": 17,
   "id": "9ea3971a-81cb-4bc7-a04c-2a9e7e8b83a6",
   "metadata": {},
   "outputs": [],
   "source": [
    "final_fact = merged_df[cols]"
   ]
  },
  {
   "cell_type": "code",
   "execution_count": 18,
   "id": "7233b663-122d-4128-ab8d-c10d713d792b",
   "metadata": {},
   "outputs": [
    {
     "data": {
      "text/html": [
       "<div>\n",
       "<style scoped>\n",
       "    .dataframe tbody tr th:only-of-type {\n",
       "        vertical-align: middle;\n",
       "    }\n",
       "\n",
       "    .dataframe tbody tr th {\n",
       "        vertical-align: top;\n",
       "    }\n",
       "\n",
       "    .dataframe thead th {\n",
       "        text-align: right;\n",
       "    }\n",
       "</style>\n",
       "<table border=\"1\" class=\"dataframe\">\n",
       "  <thead>\n",
       "    <tr style=\"text-align: right;\">\n",
       "      <th></th>\n",
       "      <th>order_id</th>\n",
       "      <th>order_item_id</th>\n",
       "      <th>product_id</th>\n",
       "      <th>seller_id</th>\n",
       "      <th>pickup_limit_date</th>\n",
       "      <th>price</th>\n",
       "      <th>shipping_cost</th>\n",
       "      <th>delivery_time</th>\n",
       "      <th>customer_id_sk</th>\n",
       "    </tr>\n",
       "  </thead>\n",
       "  <tbody>\n",
       "    <tr>\n",
       "      <th>0</th>\n",
       "      <td>00010242fe8c5a6d1ba2dd792cb16214</td>\n",
       "      <td>1</td>\n",
       "      <td>4244733e06e7ecb4970a6e2683c13e61</td>\n",
       "      <td>48436dade18ac8b2bce089ec2a041202</td>\n",
       "      <td>2017-09-19 09:45:35</td>\n",
       "      <td>58900.0</td>\n",
       "      <td>13290.0</td>\n",
       "      <td>8.0</td>\n",
       "      <td>62649</td>\n",
       "    </tr>\n",
       "    <tr>\n",
       "      <th>1</th>\n",
       "      <td>00018f77f2f0320c557190d7a144bdd3</td>\n",
       "      <td>1</td>\n",
       "      <td>e5f2d52b802189ee658865ca93d83a8f</td>\n",
       "      <td>dd7ddc04e1b6c2c614352b383efe2d36</td>\n",
       "      <td>2017-05-03 11:05:13</td>\n",
       "      <td>239900.0</td>\n",
       "      <td>19930.0</td>\n",
       "      <td>13.0</td>\n",
       "      <td>48397</td>\n",
       "    </tr>\n",
       "    <tr>\n",
       "      <th>2</th>\n",
       "      <td>000229ec398224ef6ca0657da4fc703e</td>\n",
       "      <td>1</td>\n",
       "      <td>c777355d18b72b67abbeef9df44fd0fd</td>\n",
       "      <td>5b51032eddd242adc84c38acab88f23d</td>\n",
       "      <td>2018-01-18 14:48:30</td>\n",
       "      <td>199000.0</td>\n",
       "      <td>17870.0</td>\n",
       "      <td>9.0</td>\n",
       "      <td>33086</td>\n",
       "    </tr>\n",
       "    <tr>\n",
       "      <th>3</th>\n",
       "      <td>00024acbcdf0a6daa1e931b038114c75</td>\n",
       "      <td>1</td>\n",
       "      <td>7634da152a4610f1595efa32f14722fc</td>\n",
       "      <td>9d7a1d34a5052409006425275ba1c2b4</td>\n",
       "      <td>2018-08-15 10:10:18</td>\n",
       "      <td>12990.0</td>\n",
       "      <td>12790.0</td>\n",
       "      <td>13.0</td>\n",
       "      <td>49256</td>\n",
       "    </tr>\n",
       "    <tr>\n",
       "      <th>4</th>\n",
       "      <td>00042b26cf59d7ce69dfabb4e55b4fd9</td>\n",
       "      <td>1</td>\n",
       "      <td>ac6c3623068f30de03045865e4e10089</td>\n",
       "      <td>df560393f3a51e74553ab94004ba5c87</td>\n",
       "      <td>2017-02-13 13:57:51</td>\n",
       "      <td>199900.0</td>\n",
       "      <td>18140.0</td>\n",
       "      <td>2.0</td>\n",
       "      <td>7129</td>\n",
       "    </tr>\n",
       "  </tbody>\n",
       "</table>\n",
       "</div>"
      ],
      "text/plain": [
       "                           order_id  order_item_id  \\\n",
       "0  00010242fe8c5a6d1ba2dd792cb16214              1   \n",
       "1  00018f77f2f0320c557190d7a144bdd3              1   \n",
       "2  000229ec398224ef6ca0657da4fc703e              1   \n",
       "3  00024acbcdf0a6daa1e931b038114c75              1   \n",
       "4  00042b26cf59d7ce69dfabb4e55b4fd9              1   \n",
       "\n",
       "                         product_id                         seller_id  \\\n",
       "0  4244733e06e7ecb4970a6e2683c13e61  48436dade18ac8b2bce089ec2a041202   \n",
       "1  e5f2d52b802189ee658865ca93d83a8f  dd7ddc04e1b6c2c614352b383efe2d36   \n",
       "2  c777355d18b72b67abbeef9df44fd0fd  5b51032eddd242adc84c38acab88f23d   \n",
       "3  7634da152a4610f1595efa32f14722fc  9d7a1d34a5052409006425275ba1c2b4   \n",
       "4  ac6c3623068f30de03045865e4e10089  df560393f3a51e74553ab94004ba5c87   \n",
       "\n",
       "     pickup_limit_date     price  shipping_cost  delivery_time  customer_id_sk  \n",
       "0  2017-09-19 09:45:35   58900.0        13290.0            8.0           62649  \n",
       "1  2017-05-03 11:05:13  239900.0        19930.0           13.0           48397  \n",
       "2  2018-01-18 14:48:30  199000.0        17870.0            9.0           33086  \n",
       "3  2018-08-15 10:10:18   12990.0        12790.0           13.0           49256  \n",
       "4  2017-02-13 13:57:51  199900.0        18140.0            2.0            7129  "
      ]
     },
     "execution_count": 18,
     "metadata": {},
     "output_type": "execute_result"
    }
   ],
   "source": [
    "final_fact.head()"
   ]
  },
  {
   "cell_type": "code",
   "execution_count": 19,
   "id": "bcb8036d-ac24-4516-b2a6-731acb0b371f",
   "metadata": {},
   "outputs": [
    {
     "data": {
      "text/plain": [
       "(118318, 9)"
      ]
     },
     "execution_count": 19,
     "metadata": {},
     "output_type": "execute_result"
    }
   ],
   "source": [
    "final_fact.shape"
   ]
  },
  {
   "cell_type": "code",
   "execution_count": 20,
   "id": "ea357cd8-4cef-46b6-95a8-aca482da070a",
   "metadata": {},
   "outputs": [
    {
     "data": {
      "text/plain": [
       "(118318, 9)"
      ]
     },
     "execution_count": 20,
     "metadata": {},
     "output_type": "execute_result"
    }
   ],
   "source": [
    "merged_df[cols].shape"
   ]
  },
  {
   "cell_type": "markdown",
   "id": "7acb4782-fab1-4479-8cae-1119152da029",
   "metadata": {},
   "source": [
    "# Load"
   ]
  },
  {
   "cell_type": "code",
   "execution_count": 21,
   "id": "06520283-b4c0-479b-a2e1-e6d8f229f157",
   "metadata": {},
   "outputs": [
    {
     "name": "stdout",
     "output_type": "stream",
     "text": [
      "Connection successful!\n"
     ]
    }
   ],
   "source": [
    "\n",
    "import pyodbc\n",
    "\n",
    "\n",
    "server = 'DESKTOP-020PMUU\\\\SQLEXPRESS'  \n",
    "database = 'ecommerce_dwh'\n",
    "\n",
    "# Connection string for Windows Authentication\n",
    "connection_string = f\"DRIVER={{ODBC Driver 17 for SQL Server}};SERVER={server};DATABASE={database};Trusted_Connection=yes;\"\n",
    "\n",
    "# Establish the connection\n",
    "try:\n",
    "    conn = pyodbc.connect(connection_string)\n",
    "    cursor = conn.cursor()\n",
    "    print(\"Connection successful!\")\n",
    "\n",
    "    # Commit the transaction\n",
    "    conn.commit()\n",
    "except Exception as e:\n",
    "    print(\"Error:\", e)\n",
    "finally:\n",
    "    # Close the connection\n",
    "    conn.close()\n"
   ]
  },
  {
   "cell_type": "code",
   "execution_count": 22,
   "id": "16763718-fa61-48eb-9b61-6f0d7ea17685",
   "metadata": {},
   "outputs": [
    {
     "name": "stdout",
     "output_type": "stream",
     "text": [
      "Requirement already satisfied: pandas in c:\\users\\sky top\\downloads\\new folder\\lib\\site-packages (2.2.2)\n",
      "Requirement already satisfied: sqlalchemy in c:\\users\\sky top\\downloads\\new folder\\lib\\site-packages (2.0.34)\n",
      "Requirement already satisfied: pyodbc in c:\\users\\sky top\\downloads\\new folder\\lib\\site-packages (5.1.0)\n",
      "Requirement already satisfied: numpy>=1.26.0 in c:\\users\\sky top\\downloads\\new folder\\lib\\site-packages (from pandas) (1.26.4)\n",
      "Requirement already satisfied: python-dateutil>=2.8.2 in c:\\users\\sky top\\downloads\\new folder\\lib\\site-packages (from pandas) (2.9.0.post0)\n",
      "Requirement already satisfied: pytz>=2020.1 in c:\\users\\sky top\\downloads\\new folder\\lib\\site-packages (from pandas) (2024.1)\n",
      "Requirement already satisfied: tzdata>=2022.7 in c:\\users\\sky top\\downloads\\new folder\\lib\\site-packages (from pandas) (2023.3)\n",
      "Requirement already satisfied: typing-extensions>=4.6.0 in c:\\users\\sky top\\downloads\\new folder\\lib\\site-packages (from sqlalchemy) (4.11.0)\n",
      "Requirement already satisfied: greenlet!=0.4.17 in c:\\users\\sky top\\downloads\\new folder\\lib\\site-packages (from sqlalchemy) (3.0.1)\n",
      "Requirement already satisfied: six>=1.5 in c:\\users\\sky top\\downloads\\new folder\\lib\\site-packages (from python-dateutil>=2.8.2->pandas) (1.16.0)\n",
      "Note: you may need to restart the kernel to use updated packages.\n"
     ]
    }
   ],
   "source": [
    "pip install pandas sqlalchemy pyodbc\n"
   ]
  },
  {
   "cell_type": "code",
   "execution_count": 23,
   "id": "a202b2dd-34e3-4cc2-9699-870a3902dca6",
   "metadata": {},
   "outputs": [],
   "source": [
    "\n",
    "# from sqlalchemy import create_engine\n",
    "\n",
    "# # Replace these with your actual database details\n",
    "# server = 'DESKTOP-020PMUU\\\\SQLEXPRESS'  \n",
    "# database = 'ecommerce_dwh'\n",
    "# # Create the SQLAlchemy engine using Windows Authentication\n",
    "# engine = create_engine(f'mssql+pyodbc://@{server}/{database}?driver=ODBC+Driver+17+for+SQL+Server;Trusted_Connection=yes')\n"
   ]
  },
  {
   "cell_type": "code",
   "execution_count": 24,
   "id": "f809fb51-ff20-4048-8422-aaee02fcf8d3",
   "metadata": {},
   "outputs": [
    {
     "name": "stdout",
     "output_type": "stream",
     "text": [
      "(1,)\n"
     ]
    }
   ],
   "source": [
    "from sqlalchemy import create_engine\n",
    "from sqlalchemy.sql import text\n",
    "from urllib.parse import quote_plus\n",
    "\n",
    "# Define your ODBC connection string\n",
    "odbc_connection_string = 'Driver={ODBC Driver 17 for SQL Server};' \\\n",
    "                          'Server=DESKTOP-020PMUU\\\\SQLEXPRESS;' \\\n",
    "                          'Database=ecommerce_dwh;' \\\n",
    "                          'Trusted_Connection=yes;'\n",
    "\n",
    "# Encode the connection string to handle special characters\n",
    "encoded_connection_string = quote_plus(odbc_connection_string)\n",
    "\n",
    "# Create SQLAlchemy engine\n",
    "engine = create_engine(f'mssql+pyodbc:///?odbc_connect={encoded_connection_string}')\n",
    "\n",
    "# Test the connection\n",
    "with engine.connect() as connection:\n",
    "    result = connection.execute(text('SELECT 1'))\n",
    "    print(result.fetchone())\n"
   ]
  },
  {
   "cell_type": "markdown",
   "id": "624418d3-94ae-47bd-b596-73db38302fcf",
   "metadata": {},
   "source": [
    "#### 1) load fact table\n",
    "   "
   ]
  },
  {
   "cell_type": "code",
   "execution_count": 25,
   "id": "3a8058c5-3342-41de-9734-cde3e48b4e2b",
   "metadata": {},
   "outputs": [],
   "source": [
    "#customer_dim.columns\n",
    "#payment_dim.columns\n",
    "#feedback_dim.columns\n",
    "#order_dim.columns\n",
    "#product_dim.columns\n",
    "#seller_dim.columns\n",
    "#customer_dim.columns"
   ]
  },
  {
   "cell_type": "code",
   "execution_count": 26,
   "id": "3b307bb9-82f9-4ab5-9e0e-b99dbec1ac7c",
   "metadata": {},
   "outputs": [
    {
     "name": "stdout",
     "output_type": "stream",
     "text": [
      "order_fact inserted successfully!\n"
     ]
    }
   ],
   "source": [
    "final_fact.to_sql('order_fact', con=engine, if_exists='replace', index=False)\n",
    "\n",
    "\n",
    "print(\"order_fact inserted successfully!\")"
   ]
  },
  {
   "cell_type": "markdown",
   "id": "4e191d07-2d1a-4b93-b720-7fc0e70f9f67",
   "metadata": {},
   "source": [
    "##### 2)load dimensions"
   ]
  },
  {
   "cell_type": "code",
   "execution_count": 27,
   "id": "a06ee602-8f66-464f-a5cd-7707aa756c0f",
   "metadata": {},
   "outputs": [
    {
     "name": "stdout",
     "output_type": "stream",
     "text": [
      "seller_dim inserted successfully!\n"
     ]
    }
   ],
   "source": [
    "seller_dim.to_sql('seller_dim', con=engine, if_exists='replace', index=False)\n",
    "print(\"seller_dim inserted successfully!\")"
   ]
  },
  {
   "cell_type": "code",
   "execution_count": 28,
   "id": "2b4ee49d-6f44-4d5d-a786-151641dc894e",
   "metadata": {},
   "outputs": [
    {
     "name": "stdout",
     "output_type": "stream",
     "text": [
      "payment_dim inserted successfully!\n"
     ]
    }
   ],
   "source": [
    "payment_dim.to_sql('payment_dim', con=engine, if_exists='replace', index=False)\n",
    "print(\"payment_dim inserted successfully!\")"
   ]
  },
  {
   "cell_type": "code",
   "execution_count": 29,
   "id": "74955e27-6d6e-4a00-9f36-673e65830e9a",
   "metadata": {},
   "outputs": [
    {
     "name": "stdout",
     "output_type": "stream",
     "text": [
      "feedback_dim inserted successfully!\n"
     ]
    }
   ],
   "source": [
    "feedback_dim.to_sql('feedback_dim', con=engine, if_exists='replace', index=False)\n",
    "print(\"feedback_dim inserted successfully!\")"
   ]
  },
  {
   "cell_type": "code",
   "execution_count": 30,
   "id": "0b04bbf6-f51e-4179-86d2-2e3912dc8dd5",
   "metadata": {},
   "outputs": [
    {
     "name": "stdout",
     "output_type": "stream",
     "text": [
      "order_dim inserted successfully!\n"
     ]
    }
   ],
   "source": [
    "order_dim.to_sql('order_dim', con=engine, if_exists='replace', index=False)\n",
    "print(\"order_dim inserted successfully!\")"
   ]
  },
  {
   "cell_type": "code",
   "execution_count": 31,
   "id": "cf775d36-0363-419b-93e5-d40ed203fe5e",
   "metadata": {},
   "outputs": [
    {
     "name": "stdout",
     "output_type": "stream",
     "text": [
      "product_dim inserted successfully!\n"
     ]
    }
   ],
   "source": [
    "product_dim.to_sql('product_dim', con=engine, if_exists='replace', index=False)\n",
    "print(\"product_dim inserted successfully!\")\n"
   ]
  },
  {
   "cell_type": "code",
   "execution_count": 32,
   "id": "58019344-8b19-4b4a-a1e2-8f40527ffaf4",
   "metadata": {},
   "outputs": [
    {
     "name": "stdout",
     "output_type": "stream",
     "text": [
      "customer_dim inserted successfully!\n"
     ]
    }
   ],
   "source": [
    "customer_dim.to_sql('customer_dim', con=engine, if_exists='replace', index=False)\n",
    "print(\"customer_dim inserted successfully!\")"
   ]
  },
  {
   "cell_type": "code",
   "execution_count": null,
   "id": "a0f7c86a-8ae6-408c-9546-6529333899c0",
   "metadata": {},
   "outputs": [],
   "source": []
  },
  {
   "cell_type": "code",
   "execution_count": null,
   "id": "4be5cd28-b956-455d-93cb-885f1b712630",
   "metadata": {},
   "outputs": [],
   "source": []
  }
 ],
 "metadata": {
  "kernelspec": {
   "display_name": "Python 3 (ipykernel)",
   "language": "python",
   "name": "python3"
  },
  "language_info": {
   "codemirror_mode": {
    "name": "ipython",
    "version": 3
   },
   "file_extension": ".py",
   "mimetype": "text/x-python",
   "name": "python",
   "nbconvert_exporter": "python",
   "pygments_lexer": "ipython3",
   "version": "3.12.7"
  }
 },
 "nbformat": 4,
 "nbformat_minor": 5
}
